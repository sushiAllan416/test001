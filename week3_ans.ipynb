{
 "cells": [
  {
   "cell_type": "markdown",
   "metadata": {
    "collapsed": false
   },
   "source": [
    "<center> <h2>  EE5815: Topics in Security Technology </h2> </center>\n",
    "\n",
    "<center> <h3> Week 3 Tutorial Answer </h3> </center>\n",
    "\n"
   ]
  },
  {
   "cell_type": "markdown",
   "metadata": {
    "collapsed": false
   },
   "source": [
   ]
  },
  {
   "cell_type": "markdown",
   "metadata": {
    "collapsed": false
   },
   "source": [
    "#### Exercise 1: Sage functions\n",
    "\n",
    "Write functions to perform the following tasks on Sage\n",
    "\n",
    "\n",
    "a.) Check if a given argument is an alphabet letter\n",
    "\n",
    "b.) Get the location (index) of a letter in alphabet\n",
    "\n",
    "c.) Create a 5x5 matrix and populate it with numbers 1-25\n",
    "\n",
    "d.) Insert a character in a given string at a position 'i'\n",
    "\n",
    "e.) Create and display the key matrix of Playfair cipher using a key=MONARCHY\n",
    "\n",
    "\n",
    "\n"
   ]
  },
  {
   "cell_type": "code",
   "execution_count": 2,
   "metadata": {
    "collapsed": false
   },
   "outputs": [
    {
     "name": "stdout",
     "output_type": "stream",
     "text": [
      "True\n",
      "False\n"
     ]
    }
   ],
   "source": [
    "# a.) Check if a given argument is an alphabet letter\n",
    "alpha = [chr(i) for i in range(ord('a'),ord('z')+1)]\n",
    "## alternatively\n",
    "## alpha=\"abcdefghijklmnopqrstuvwxyz\"\n",
    "\n",
    "def is_alpha_char(c):\n",
    "    return (c.lower() in alpha)\n",
    "\n",
    "print(is_alpha_char('c') and is_alpha_char('A'))\n",
    "print(is_alpha_char('0') or is_alpha_char('aaa'))\n"
   ]
  },
  {
   "cell_type": "code",
   "execution_count": 3,
   "metadata": {
    "collapsed": false
   },
   "outputs": [
    {
     "name": "stdout",
     "output_type": "stream",
     "text": [
      "0\n",
      "25\n"
     ]
    }
   ],
   "source": [
    "# b.) Get the location (index) of a letter in alphabet\n",
    "def get_alpha_index(c):\n",
    "    return alpha.index(c.lower())\n",
    "\n",
    "print(get_alpha_index('a'))\n",
    "print(get_alpha_index('z'))"
   ]
  },
  {
   "cell_type": "code",
   "execution_count": 4,
   "metadata": {
    "collapsed": false
   },
   "outputs": [
    {
     "name": "stdout",
     "output_type": "stream",
     "text": [
      "[[1, 2, 3, 4, 5], [6, 7, 8, 9, 10], [11, 12, 13, 14, 15], [16, 17, 18, 19, 20], [21, 22, 23, 24, 25]]\n"
     ]
    }
   ],
   "source": [
    "# c.) Create a 5x5 matrix and populate it with numbers 1-25\n",
    "def get_matrix(x,y,initial):\n",
    "    return [[initial for i in range(x)] for j in range(y)]\n",
    "my_matrix = get_matrix(5,5,0)\n",
    "for i in range(0,5):\n",
    "    for j in range(0,5):\n",
    "        my_matrix[i][j]=5*i+j+1\n",
    "print(my_matrix)"
   ]
  },
  {
   "cell_type": "code",
   "execution_count": 5,
   "metadata": {
    "collapsed": false
   },
   "outputs": [
    {
     "name": "stdout",
     "output_type": "stream",
     "text": [
      "hezlo\n"
     ]
    }
   ],
   "source": [
    "#d.) Insert a character in a given string at a position 'i'\n",
    "def insert_to_string(string, c, i):\n",
    "    c=str(c)\n",
    "    return string[:(-1)*i]+c+string[i:]\n",
    "print(insert_to_string(\"hello\",'z',3))"
   ]
  },
  {
   "cell_type": "code",
   "execution_count": 6,
   "metadata": {
    "collapsed": false
   },
   "outputs": [
    {
     "name": "stdout",
     "output_type": "stream",
     "text": [
      "[['M', 'O', 'N', 'A', 'R'], ['C', 'H', 'Y', 'B', 'D'], ['E', 'F', 'G', 'I', 'K'], ['L', 'P', 'Q', 'S', 'T'], ['U', 'V', 'W', 'X', 'Z']]\n"
     ]
    }
   ],
   "source": [
    "#e.) Create and display the key matrix of Playfair cipher using a key=MONARCHY\n",
    "\n",
    "def get_key_matrix(key):\n",
    "    key=key.replace(\" \", \"\")\n",
    "    key=key.upper()\n",
    "    result=list()\n",
    "    for c in key: #storing key\n",
    "        if c not in result:\n",
    "            if c=='J':\n",
    "                result.append('I')\n",
    "            else:\n",
    "                result.append(c)\n",
    "    flag=0\n",
    "    for i in range(65,91): #storing other character\n",
    "        if chr(i) not in result:\n",
    "            if i==73 and chr(74) not in result:\n",
    "                result.append(\"I\")\n",
    "                flag=1\n",
    "            elif flag==0 and i==73 or i==74:\n",
    "                pass    \n",
    "            else:\n",
    "                result.append(chr(i))\n",
    "    k=0\n",
    "    my_matrix=get_matrix(5,5,0) #initialize matrix   \n",
    "    for i in range(0,5): #making matrix\n",
    "        for j in range(0,5):\n",
    "            my_matrix[i][j]=result[k]\n",
    "            k+=1\n",
    "    return my_matrix\n",
    "print(get_key_matrix(\"MONARCHY\"))"
   ]
  },
  {
   "cell_type": "markdown",
   "metadata": {
    "collapsed": false
   },
   "source": [
    "#### Exercise 2: Mono-alphabetic cipher\n",
    "\n",
    "Carryout the following tasks on Sage (You may use the mono-alphabetic cipher Sage code provided)\n",
    "```\n",
    "a.) Encrypt \"Ifwewishtoreplaceletters\" using mono-alphabetic cipher with the key k=\"DKVQFIBJWPESCXHTMYAUOLRGZN\"\n",
    "b.) Decrypt back the ciphertext in a.)\n",
    "c.) Encrypt \"Welcometomysecuritycourse\" using mono-alphabetic cipher with the key      k=\"DKVQFIBJWPESCXHTMYAUOLRGZN\"\n",
    "d.) Decrypt back the ciphertext in c.)\n",
    "```"
   ]
  },
  {
   "cell_type": "code",
   "execution_count": 7,
   "metadata": {
    "collapsed": false
   },
   "outputs": [
   ],
   "source": [
    "#### Mono-alphabetic Cipher Sage Code:\n",
    "def is_alpha_char(c):\n",
    "    return (c.lower() in alpha)\n",
    "\n",
    "def get_alpha_index(c):\n",
    "    return alpha.index(c.lower())\n",
    "\n",
    "def get_key_index(c,key):\n",
    "    return key.index(c.upper())\n",
    "def encrypt_ma(k, plaintext):\n",
    "     ciphertext = \"\"\n",
    "     if len(k)==26:\n",
    "         key=k\n",
    "         for j in range(len(plaintext)):\n",
    "             p=plaintext[j]\n",
    "             if is_alpha_char(p):\n",
    "                 x = get_alpha_index(p)\n",
    "                 c = key[x]\n",
    "             else:\n",
    "                 c = p\n",
    "             ciphertext +=c\n",
    "         return ciphertext\n",
    "     else:\n",
    "         print(\"wrong key size\")\n",
    "\n",
    "def decrypt_ma(k, ciphertext):\n",
    "     plaintext = \"\"\n",
    "     if len(k)==26:\n",
    "         key=k\n",
    "         for j in range(len(ciphertext)):\n",
    "             c=ciphertext[j]\n",
    "             if is_alpha_char(c):\n",
    "                 x = get_key_index(c,key)\n",
    "                 p = alpha[x]\n",
    "             else:\n",
    "                 p = c\n",
    "             plaintext +=p\n",
    "         return plaintext\n",
    "     else:\n",
    "         print(\"wrong key size\")\n",
    "        \n",
    "        "
   ]
  },
  {
   "cell_type": "code",
   "execution_count": 8,
   "metadata": {
    "collapsed": false
   },
   "outputs": [
    {
     "name": "stdout",
     "output_type": "stream",
     "text": [
      "WIRFRWAJUHYFTSDVFSFUUFYA\n",
      "ifwewishtoreplaceletters\n"
     ]
    }
   ],
   "source": [
    "# a.) Encrypt \"Ifwewishtoreplaceletters\" using mono-alphabetic cipher with the key k=\"DKVQFIBJWPESCXHTMYAUOLRGZN\"\n",
    "cipher=encrypt_ma(\"DKVQFIBJWPESCXHTMYAUOLRGZN\",\"Ifwewishtoreplaceletters\")\n",
    "print(cipher)\n",
    "# b.) Decrypt back the ciphertext in a.)\n",
    "plain=decrypt_ma(\"DKVQFIBJWPESCXHTMYAUOLRGZN\",cipher)\n",
    "print(plain)"
   ]
  },
  {
   "cell_type": "code",
   "execution_count": 9,
   "metadata": {
    "collapsed": false
   },
   "outputs": [
    {
     "name": "stdout",
     "output_type": "stream",
     "text": [
      "RFSVHCFUHCZAFVOYWUZVHOYAF\n",
      "welcometomysecuritycourse\n"
     ]
    }
   ],
   "source": [
    "#c.) Encrypt \"Welcometomysecuritycourse\" using mono-alphabetic cipher with the key      k=\"DKVQFIBJWPESCXHTMYAUOLRGZN\"\n",
    "cipher=encrypt_ma(\"DKVQFIBJWPESCXHTMYAUOLRGZN\",\"Welcometomysecuritycourse\")\n",
    "print(cipher)\n",
    "#d.) Decrypt back the ciphertext in c.)\n",
    "plain=decrypt_ma(\"DKVQFIBJWPESCXHTMYAUOLRGZN\",cipher)\n",
    "print(plain)"
   ]
  },
  {
   "cell_type": "markdown",
   "metadata": {
    "collapsed": false
   },
   "source": [
    "#### Exercise 3: Playfair cipher\n",
    "\n",
    "Carryout the following tasks on Sage (You may use the Playfair cipher Sage code provided)\n",
    "\n",
    "```c++\n",
    "a.) Encrypt \"MEETPRIMEMINISTERAFTERDINNER\" \"\"using Playfair cipher with the key=\"MONARCHY\"\n",
    "b.) Decrypt back the ciphertext in a.)  \n",
    "c.) Encrypt \"Welcometomysecuritycourse\" using Playfair cipher with the key=\"PLAYFAIR\"\n",
    "d.) Decrypt back the ciphertext in c.)\n",
    "```"
   ]
  },
  {
   "cell_type": "code",
   "execution_count": 10,
   "metadata": {
    "collapsed": false
   },
   "outputs": [
   ],
   "source": [
    "### Playfair Cipher Code\n",
    "def get_matrix(x,y,initial):\n",
    "    return [[initial for i in range(x)] for j in range(y)]\n",
    "def get_key_matrix(key):\n",
    "    key=key.replace(\" \", \"\")\n",
    "    key=key.upper()\n",
    "    result=list()\n",
    "    for c in key: #storing key\n",
    "        if c not in result:\n",
    "            if c=='J':\n",
    "                result.append('I')\n",
    "            else:\n",
    "                result.append(c)\n",
    "    flag=0\n",
    "    for i in range(65,91): #storing other character\n",
    "        if chr(i) not in result:\n",
    "            if i==73 and chr(74) not in result:\n",
    "                result.append(\"I\")\n",
    "                flag=1\n",
    "            elif flag==0 and i==73 or i==74:\n",
    "                pass    \n",
    "            else:\n",
    "                result.append(chr(i))\n",
    "    k=0\n",
    "    key_matrix=get_matrix(5,5,0) #initialize matrix   \n",
    "    for i in range(0,5): #making matrix\n",
    "        for j in range(0,5):\n",
    "            key_matrix[i][j]=result[k]\n",
    "            k+=1\n",
    "    return key_matrix\n",
    "def locindex(c,key_matrix): #get location of each character\n",
    "    loc=list()\n",
    "    if c=='J':\n",
    "        c='I'\n",
    "    for i ,j in enumerate(key_matrix):\n",
    "        for k,l in enumerate(j):\n",
    "            if c==l:\n",
    "                loc.append(i)\n",
    "                loc.append(k)\n",
    "                return loc\n",
    "            \n",
    "def encrypt(plain, key_matrix):  #Encryption\n",
    "    msg=plain.upper()\n",
    "    msg=msg.replace(\" \", \"\")             \n",
    "    i=0\n",
    "    for s in range(0,len(msg)+1,2):\n",
    "        if s<len(msg)-1:\n",
    "            if msg[s]==msg[s+1]:\n",
    "                msg=msg[:s+1]+'X'+msg[s+1:]\n",
    "    if len(msg)%2!=0:\n",
    "        msg=msg[:]+'X'\n",
    "    print(\"CIPHER TEXT:\",end=' ')\n",
    "    while i<len(msg):\n",
    "        loc=list()\n",
    "        loc=locindex(msg[i],key_matrix)\n",
    "        loc1=list()\n",
    "        loc1=locindex(msg[i+1],key_matrix)\n",
    "        if loc[1]==loc1[1]:\n",
    "            print(\"{}{}\".format(key_matrix[(loc[0]+1)%5][loc[1]],key_matrix[(loc1[0]+1)%5][loc1[1]]),end=' ')\n",
    "        elif loc[0]==loc1[0]:\n",
    "            print(\"{}{}\".format(key_matrix[loc[0]][(loc[1]+1)%5],key_matrix[loc1[0]][(loc1[1]+1)%5]),end=' ')  \n",
    "        else:\n",
    "            print(\"{}{}\".format(key_matrix[loc[0]][loc1[1]],key_matrix[loc1[0]][loc[1]]),end=' ')    \n",
    "        i=i+2       \n",
    "                 \n",
    "def decrypt(cipher,key_matrix):  #decryption\n",
    "    msg=cipher.upper()\n",
    "    msg=msg.replace(\" \", \"\")\n",
    "    print(\"PLAIN TEXT:\",end=' ')\n",
    "    i=0\n",
    "    while i<len(msg):\n",
    "        loc=list()\n",
    "        loc=locindex(msg[i],key_matrix)\n",
    "        loc1=list()\n",
    "        loc1=locindex(msg[i+1],key_matrix)\n",
    "        if loc[1]==loc1[1]:\n",
    "            print(\"{}{}\".format(key_matrix[(loc[0]-1)%5][loc[1]],key_matrix[(loc1[0]-1)%5][loc1[1]]),end=' ')\n",
    "        elif loc[0]==loc1[0]:\n",
    "            print(\"{}{}\".format(key_matrix[loc[0]][(loc[1]-1)%5],key_matrix[loc1[0]][(loc1[1]-1)%5]),end=' ')  \n",
    "        else:\n",
    "            print(\"{}{}\".format(key_matrix[loc[0]][loc1[1]],key_matrix[loc1[0]][loc[1]]),end=' ')    \n",
    "        i=i+2        "
   ]
  },
  {
   "cell_type": "code",
   "execution_count": 11,
   "metadata": {
    "collapsed": false
   },
   "outputs": [
    {
     "name": "stdout",
     "output_type": "stream",
     "text": [
      "CIPHER TEXT: CL KL TO EA LC GA SX LK MR KP KM BK AW MG AZ "
     ]
    }
   ],
   "source": [
    "#a.) Encrypt \"MEETPRIMEMINISTERAFTERDINNER\" \"\"using Playfair cipher with the key=\"MONARCHY\"\n",
    "key_matrix=get_key_matrix(\"MONARCHY\")\n",
    "encrypt(\"MEETPRIMEMINISTERAFTERDINNER\",key_matrix)"
   ]
  },
  {
   "cell_type": "code",
   "execution_count": 12,
   "metadata": {
    "collapsed": false
   },
   "outputs": [
    {
     "name": "stdout",
     "output_type": "stream",
     "text": [
      "PLAIN TEXT: ME ET PR IM EM IN IS TE RA FT ER DI NX NE RX "
     ]
    }
   ],
   "source": [
    "#b.) Decrypt back the ciphertext in a.)  \n",
    "decrypt(\"CL KL TO EA LC GA SX LK MR KP KM BK AW MG AZ\",key_matrix)"
   ]
  },
  {
   "cell_type": "code",
   "execution_count": 13,
   "metadata": {
    "collapsed": false
   },
   "outputs": [
    {
     "name": "stdout",
     "output_type": "stream",
     "text": [
      "CIPHER TEXT: UH YR TG MN TG CX KI VI DN CK NV CO KU "
     ]
    }
   ],
   "source": [
    "#c.) Encrypt \"Welcometomysecuritycourse\" using Playfair cipher with the key=\"PLAYFAIR\"\n",
    "key_matrix=get_key_matrix(\"PLAYFAIR\")\n",
    "encrypt(\"Welcometomysecuritycourse\",key_matrix)"
   ]
  },
  {
   "cell_type": "code",
   "execution_count": 14,
   "metadata": {
    "collapsed": false
   },
   "outputs": [
    {
     "name": "stdout",
     "output_type": "stream",
     "text": [
      "PLAIN TEXT: WE LC OM ET OM YS EC UR IT YC OU RS EX "
     ]
    }
   ],
   "source": [
    "#d.) Decrypt back the ciphertext in c.)\n",
    "decrypt(\"UH YR TG MN TG CX KI VI DN CK NV CO KU\",key_matrix)"
   ]
  }
 ],
 "metadata": {
  "kernelspec": {
   "argv": [
    "sage-10.1",
    "--python",
    "-m",
    "sage.repl.ipython_kernel",
    "--matplotlib=inline",
    "-f",
    "{connection_file}"
   ],
   "display_name": "SageMath 10.1",
   "env": {
   },
   "language": "sagemath",
   "metadata": {
    "cocalc": {
     "description": "Open-source mathematical software system",
     "priority": 10,
     "url": "https://www.sagemath.org/"
    }
   },
   "name": "sage-10.1",
   "resource_dir": "/ext/jupyter/kernels/sage-10.1"
  },
  "language_info": {
   "codemirror_mode": {
    "name": "ipython",
    "version": 3
   },
   "file_extension": ".py",
   "mimetype": "text/x-python",
   "name": "python",
   "nbconvert_exporter": "python",
   "pygments_lexer": "ipython3",
   "version": "3.11.1"
  }
 },
 "nbformat": 4,
 "nbformat_minor": 4
}